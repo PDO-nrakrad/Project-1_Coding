{
  "nbformat": 4,
  "nbformat_minor": 0,
  "metadata": {
    "colab": {
      "provenance": [],
      "authorship_tag": "ABX9TyNv9XjXFoKsdAs7dSn68/md",
      "include_colab_link": true
    },
    "kernelspec": {
      "name": "python3",
      "display_name": "Python 3"
    },
    "language_info": {
      "name": "python"
    }
  },
  "cells": [
    {
      "cell_type": "markdown",
      "metadata": {
        "id": "view-in-github",
        "colab_type": "text"
      },
      "source": [
        "<a href=\"https://colab.research.google.com/github/PDO-nrakrad/Project-1_Coding/blob/main/13_working.ipynb\" target=\"_parent\"><img src=\"https://colab.research.google.com/assets/colab-badge.svg\" alt=\"Open In Colab\"/></a>"
      ]
    },
    {
      "cell_type": "code",
      "execution_count": null,
      "metadata": {
        "colab": {
          "base_uri": "https://localhost:8080/"
        },
        "id": "V_Y0Ynit29Yz",
        "outputId": "7393ba3a-a4f1-40fb-be66-aa5494bef1c2"
      },
      "outputs": [
        {
          "output_type": "stream",
          "name": "stdout",
          "text": [
            "The vale of Capacitance is 4.50 μF\n"
          ]
        }
      ],
      "source": [
        "def capacitance_function(Q ,V ):\n",
        "  C = Q/V\n",
        "  print (\"The vale of Capacitance is\",'%.2f' %C, \"μF\")\n",
        "\n",
        "capacitance_function(100,22.2)"
      ]
    }
  ]
}