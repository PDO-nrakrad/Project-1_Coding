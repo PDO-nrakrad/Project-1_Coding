{
  "nbformat": 4,
  "nbformat_minor": 0,
  "metadata": {
    "colab": {
      "provenance": [],
      "authorship_tag": "ABX9TyMw6vzVDNuM9IE5I/cBdQ0a",
      "include_colab_link": true
    },
    "kernelspec": {
      "name": "python3",
      "display_name": "Python 3"
    },
    "language_info": {
      "name": "python"
    }
  },
  "cells": [
    {
      "cell_type": "markdown",
      "metadata": {
        "id": "view-in-github",
        "colab_type": "text"
      },
      "source": [
        "<a href=\"https://colab.research.google.com/github/PDO-nrakrad/Project-1_Coding/blob/main/13_MAPRAW.ipynb\" target=\"_parent\"><img src=\"https://colab.research.google.com/assets/colab-badge.svg\" alt=\"Open In Colab\"/></a>"
      ]
    },
    {
      "cell_type": "markdown",
      "source": [
        "# เลขที่ 13 มะพร้าว ธารฎาวัฒน์ คงเจริญถิ่น\n",
        "No 13 Ma-praw Thandawat kongcharoentin (:\n"
      ],
      "metadata": {
        "id": "43wy-kpXbth6"
      }
    },
    {
      "cell_type": "markdown",
      "source": [
        "**20 พฤษภาคม 2567**\n",
        "\n",
        "*   print\n",
        "*   data type\n",
        "*   type"
      ],
      "metadata": {
        "id": "vMedHtDMAP8O"
      }
    },
    {
      "cell_type": "markdown",
      "source": [
        "**29 พฤษภาคม 2567**\n",
        "\n",
        "*   ได้เรียนรู้เกี่ยวกับตัวแปร ว่าไม่ควรเป็น ตัวเลข หรือ ภาษาไทย\n",
        "*   ได้รู้ว่า type เป็นคำสั่งประเภทบอกข้อมูล หรือ บอกชนิดของข้อมูล\n",
        "*    รู้เกี่ยว กับ int ใช้บอกเลขจำนวนเต็ม, float ใช้บอกจำนวนตัวทศนิยม, str ใช้ตัวอักษรภาษาอังกฤษ\n",
        "*     ได้รู้ว่า ตัวแปร นั้น จะมีความหมาย หรือ ไม่มีความหมายก็ได้ แต่ต้องเป็นตัวแทน เช่น name ใช้  n แทน\n",
        "\n",
        "\n"
      ],
      "metadata": {
        "id": "bRbe-JJdg5jA"
      }
    },
    {
      "cell_type": "code",
      "source": [
        "print(\"ma-praw เองจร้า\")"
      ],
      "metadata": {
        "colab": {
          "base_uri": "https://localhost:8080/"
        },
        "id": "4LxJFSk8BHbn",
        "outputId": "f9c1cb55-74a2-40dd-c786-f6154e9bcefd"
      },
      "execution_count": null,
      "outputs": [
        {
          "output_type": "stream",
          "name": "stdout",
          "text": [
            "ma-praw เองจร้า\n"
          ]
        }
      ]
    },
    {
      "cell_type": "code",
      "source": [
        "print('*  +  *')\n",
        "print('+  *  +')\n",
        "print('*  +  *')"
      ],
      "metadata": {
        "colab": {
          "base_uri": "https://localhost:8080/"
        },
        "id": "fKtP-eKWGBVw",
        "outputId": "2b39287e-4fc5-4da9-a0c4-069ba7d13c0c"
      },
      "execution_count": null,
      "outputs": [
        {
          "output_type": "stream",
          "name": "stdout",
          "text": [
            "*  +  *\n",
            "+  *  +\n",
            "*  +  *\n"
          ]
        }
      ]
    },
    {
      "cell_type": "code",
      "source": [
        "print('''*  +  *\n",
        "+  *  +\n",
        "*  +  *''')"
      ],
      "metadata": {
        "colab": {
          "base_uri": "https://localhost:8080/"
        },
        "id": "GjEYwzp2PSsW",
        "outputId": "48388037-d474-4591-dafa-2b371509d0b1"
      },
      "execution_count": null,
      "outputs": [
        {
          "output_type": "stream",
          "name": "stdout",
          "text": [
            "*  +  *\n",
            "+  *  +\n",
            "*  +  *\n"
          ]
        }
      ]
    },
    {
      "cell_type": "code",
      "source": [
        "print(\"\"\"*  +  *\n",
        "+  *  +\n",
        "*  +  *\"\"\")"
      ],
      "metadata": {
        "colab": {
          "base_uri": "https://localhost:8080/"
        },
        "id": "vg7BV_wlPoSR",
        "outputId": "aa5525ee-326e-4b9e-e297-cd948013c686"
      },
      "execution_count": null,
      "outputs": [
        {
          "output_type": "stream",
          "name": "stdout",
          "text": [
            "*  +  *\n",
            "+  *  +\n",
            "*  +  *\n"
          ]
        }
      ]
    },
    {
      "cell_type": "code",
      "source": [
        "print(\"*  +  *  \\+  *  + \\*  +  * \")"
      ],
      "metadata": {
        "colab": {
          "base_uri": "https://localhost:8080/"
        },
        "id": "try2uqQHP3Mp",
        "outputId": "e7601fa8-55c4-4732-c21c-09807b7b3e8b"
      },
      "execution_count": null,
      "outputs": [
        {
          "output_type": "stream",
          "name": "stdout",
          "text": [
            "*  +  *  \\+  *  + \\*  +  * \n"
          ]
        }
      ]
    },
    {
      "cell_type": "code",
      "source": [
        "a = 2\n",
        "b = 1.5\n",
        "c = \"MAPRAW\"\n",
        "\n",
        "type(a)\n",
        "\n",
        "print(\"ตัวแปรที่ฉันคิด คือ\", c)"
      ],
      "metadata": {
        "colab": {
          "base_uri": "https://localhost:8080/"
        },
        "id": "sOzLlR8HZeHd",
        "outputId": "3e8a2ddd-003e-431d-b666-15d26ee8f541"
      },
      "execution_count": null,
      "outputs": [
        {
          "output_type": "stream",
          "name": "stdout",
          "text": [
            "ตัวแปรที่ฉันคิด คือ MAPRAW\n"
          ]
        }
      ]
    },
    {
      "cell_type": "code",
      "source": [
        "numeric1 = 5\n",
        "print(numeric1)\n",
        "type(numeric1)"
      ],
      "metadata": {
        "colab": {
          "base_uri": "https://localhost:8080/"
        },
        "id": "djABDApTln-v",
        "outputId": "3b0b4fa1-c095-4695-e1ff-1feed15b5bd4"
      },
      "execution_count": null,
      "outputs": [
        {
          "output_type": "stream",
          "name": "stdout",
          "text": [
            "5\n"
          ]
        },
        {
          "output_type": "execute_result",
          "data": {
            "text/plain": [
              "int"
            ]
          },
          "metadata": {},
          "execution_count": 1
        }
      ]
    },
    {
      "cell_type": "code",
      "source": [
        "string1 ='Python'\n",
        "print(string1[0])"
      ],
      "metadata": {
        "colab": {
          "base_uri": "https://localhost:8080/"
        },
        "id": "6U1r3undZP2F",
        "outputId": "3bcb5144-d28f-4883-feda-03c8ac451e93"
      },
      "execution_count": null,
      "outputs": [
        {
          "output_type": "stream",
          "name": "stdout",
          "text": [
            "P\n"
          ]
        }
      ]
    },
    {
      "cell_type": "markdown",
      "source": [
        "  ^^index ที่เริ่มด้วย 0 ก็จะเป็นตัวแรก เพราะในภาษาโค้ด ระบบนั้นจะเริ่มด้วย เลข0 เป็นตัวแรก และถ้า คำว่าpython มี6ตัวในจำนวนเต็ม จะเริ่มจาก 0-5 แต่ถ้าจะใส่ติดลบ ต้อง ใช่ จาก (-6 )- (-1) เช่นถ้าจะให้แสดงผล ตัว p ต้องใส่ [0] หรือไมก็[-6] หรือ ตัว y ต้องใช้ [1]หรือ[-5]\n",
        "         \n",
        "          *  P y t h o n\n",
        "           * 0 1 2 3 4 5\n",
        "           * -6 -5 -4 -3 -2 -1"
      ],
      "metadata": {
        "id": "g4gl0lF_b8nk"
      }
    },
    {
      "cell_type": "markdown",
      "source": [
        "\n",
        "\n",
        "*   input คือ การรับคำสั่ง ที่สั่งเข้าไป แบบในตัวอย่าง คือ ** string1 = 'Python'  / print(string1[0])**\n",
        "*   process คือ การประมวลผลข้อมูลคำสั่งที่ไดัรับเข้าไปในตัวแปรแกรม เช่น การกด run code ใน colab แล้วตัวโปรแกรมจะประมวลผลออกมาให้  \n",
        "*   output คือ การแสดงคำสั่งที่ประมวลผลเสร็จแล้วออกมา แบบในตัวอย่าง คือ  P\n",
        "\n"
      ],
      "metadata": {
        "id": "3niNGksqfwcf"
      }
    },
    {
      "cell_type": "markdown",
      "source": [
        "# 26 June 2024"
      ],
      "metadata": {
        "id": "lal82WMDvcH3"
      }
    },
    {
      "cell_type": "markdown",
      "source": [
        "input คือ การรับคำสั่งของข้อมูลที่ได้รับมาเพื่อไปส่งต่อในการประมวลผล และ input ใช้คำสั่ง int float and str ได้"
      ],
      "metadata": {
        "id": "BhMMGcglvlg4"
      }
    },
    {
      "cell_type": "code",
      "source": [
        "name=input(\"your name sir \")\n",
        "print(\"ยินดีที่ได้รู้\",name)"
      ],
      "metadata": {
        "colab": {
          "base_uri": "https://localhost:8080/"
        },
        "id": "fmtZZRwWvpVZ",
        "outputId": "849e1449-3e18-4d19-d0f1-92763edab1c4"
      },
      "execution_count": null,
      "outputs": [
        {
          "output_type": "stream",
          "name": "stdout",
          "text": [
            "your name sir mapraw\n",
            "ยินดีที่ได้รู้ mapraw\n"
          ]
        }
      ]
    },
    {
      "cell_type": "code",
      "source": [
        "side=int(input(\"ความยาวด้าน(ซม.)คือ \"))\n",
        "area= side*side\n",
        "\n",
        "print(\"พื้นที่สีเหลี่ยม เท่ากับ\", area,\"ตร.ซม\")"
      ],
      "metadata": {
        "colab": {
          "base_uri": "https://localhost:8080/"
        },
        "id": "5XKAOf_JzI6j",
        "outputId": "b2ce188d-8d11-40a2-b8db-6deb256e3875"
      },
      "execution_count": null,
      "outputs": [
        {
          "output_type": "stream",
          "name": "stdout",
          "text": [
            "ความยาวด้าน(ซม.)คือ 8\n",
            "พื้นที่สีเหลี่ยม เท่ากับ 64 ตร.ซม\n"
          ]
        }
      ]
    },
    {
      "cell_type": "markdown",
      "source": [
        "# 01/07/2567\n",
        "\\n คือ เว้นบรรทัด"
      ],
      "metadata": {
        "id": "5OgAvbUoRjDK"
      }
    },
    {
      "cell_type": "code",
      "source": [
        "wide=int(input(\"ความกว้าง(ซม.)คือ \"))\n",
        "length=int(input(\"ความกว้าง(ซม.)คือ \"))\n",
        "area= wide*length\n",
        "\n",
        "print(\"พื้นที่ของสี่เหลี่ยมผืนผ้า เท่ากับ\", area,\"ตร.ซม\")"
      ],
      "metadata": {
        "colab": {
          "base_uri": "https://localhost:8080/"
        },
        "id": "R-x2uF3JQZ7c",
        "outputId": "b508b7fc-ee76-432f-a6b2-ccf22808fbbe"
      },
      "execution_count": null,
      "outputs": [
        {
          "output_type": "stream",
          "name": "stdout",
          "text": [
            "ความกว้าง(ซม.)คือ 5\n",
            "ความกว้าง(ซม.)คือ 2\n",
            "พื้นที่ของสี่เหลี่ยมผืนผ้า เท่ากับ 10 ตร.ซม\n"
          ]
        }
      ]
    },
    {
      "cell_type": "code",
      "source": [
        "s=int(input(\"distance(m) is\"))\n",
        "t=int(input(\"second(s) is\"))\n",
        "v=s/t\n",
        "\n",
        "print(\"speed is\", v,\"m/s\")\n"
      ],
      "metadata": {
        "colab": {
          "base_uri": "https://localhost:8080/"
        },
        "id": "vPgXV94DRsVa",
        "outputId": "cb584980-75f2-48eb-ec92-db62bfa94f1a"
      },
      "execution_count": null,
      "outputs": [
        {
          "output_type": "stream",
          "name": "stdout",
          "text": [
            "distance(m) is20\n",
            "second(s) is5\n",
            "speed is 4.0 m/s\n"
          ]
        }
      ]
    },
    {
      "cell_type": "code",
      "source": [
        "#BMI\n",
        "wight=float(input(\"ค่าน้ำหนักของร่างกาย(นน.)คือ \"))\n",
        "hight=float(input(\"ค่าความสูงของร่างกาย(ม.)คือ \"))\n",
        "bmi= wight/hight**2\n",
        "\n",
        "print(\"ค่าดัชนีมวลกาย เท่ากับ\", bmi,\"%\")"
      ],
      "metadata": {
        "colab": {
          "base_uri": "https://localhost:8080/"
        },
        "id": "k3RtLhFtYZfh",
        "outputId": "4d8694fa-1db4-4eb2-e072-767217a4ec0b"
      },
      "execution_count": null,
      "outputs": [
        {
          "output_type": "stream",
          "name": "stdout",
          "text": [
            "ค่าน้ำหนักของร่างกาย(นน.)คือ 60\n",
            "ค่าความสูงของร่างกาย(ม.)คือ 1.58\n",
            "ค่าดัชนีมวลกาย เท่ากับ 24.034609838166958 %\n"
          ]
        }
      ]
    },
    {
      "cell_type": "code",
      "source": [
        "print(\"body mass calculate program\")\n",
        "print(\"by thanda krad\")\n",
        "wight=float(input(\"ค่าน้ำหนักของร่างกาย(นน.)คือ \"))\n",
        "hight=float(input(\"ค่าความสูงของร่างกาย(ม.)คือ \"))\n",
        "bmi= wight/hight**2\n",
        "\n",
        "print(\"ค่าดัชนีมวลกาย เท่ากับ\", bmi,\"%\")"
      ],
      "metadata": {
        "colab": {
          "base_uri": "https://localhost:8080/"
        },
        "id": "NJzX3l3BbK9T",
        "outputId": "fe4caa1d-2857-40a1-8444-76422a2ba329"
      },
      "execution_count": null,
      "outputs": [
        {
          "output_type": "stream",
          "name": "stdout",
          "text": [
            "body mass calculate program\n",
            "by thanda krad\n",
            "ค่าน้ำหนักของร่างกาย(นน.)คือ 42\n",
            "ค่าความสูงของร่างกาย(ม.)คือ 1.55\n",
            "ค่าดัชนีมวลกาย เท่ากับ 17.48178980228928 %\n"
          ]
        }
      ]
    },
    {
      "cell_type": "code",
      "source": [
        "print(\"body mass calculate program v.1 eiei\")\n",
        "print(\"by thanda krad\")\n",
        "name=str(input(\"\\nโปรดป้อนชื่อของคุณ \"))\n",
        "print(\"ยินดีต้อนรับ จร้า\", name,\"แทคแคร์นะจ๊ะ\")\n",
        "wight=float(input(\"\\nค่าน้ำหนักของร่างกาย(นน.)คือ \"))\n",
        "hight=float(input(\"ค่าความสูงของร่างกาย(ม.)คือ \"))\n",
        "bmi= wight/hight**2\n",
        "\n",
        "print(\"ค่าดัชนีมวลกาย เท่ากับ\", bmi,\"%\")"
      ],
      "metadata": {
        "colab": {
          "base_uri": "https://localhost:8080/"
        },
        "id": "g1upM7_qd4Fc",
        "outputId": "292cd408-3f95-46b7-d07a-3e52e2e7aed0"
      },
      "execution_count": null,
      "outputs": [
        {
          "output_type": "stream",
          "name": "stdout",
          "text": [
            "body mass calculate program v.1 eiei\n",
            "by thanda krad\n",
            "\n",
            "โปรดป้อนชื่อของคุณ ฮับ\n",
            "ยินดีต้อนรับ จร้า ฮับ แทคแคร์นะจ๊ะ\n",
            "\n",
            "ค่าน้ำหนักของร่างกาย(นน.)คือ 65\n",
            "ค่าความสูงของร่างกาย(ม.)คือ 1.74\n",
            "ค่าดัชนีมวลกาย เท่ากับ 21.469150482230148 %\n"
          ]
        }
      ]
    },
    {
      "cell_type": "code",
      "source": [
        "print(\"body mass calculate program v.1 eiei\")\n",
        "print(\"by thanda krad\")\n",
        "name=str(input(\"\\nโปรดป้อนชื่อของคุณ \"))\n",
        "print(\"ยินดีต้อนรับ จร้า\", name,\"แทคแคร์นะจ๊ะ\")\n",
        "wight=float(input(\"\\nค่าน้ำหนักของร่างกาย(นน.)คือ \"))\n",
        "hight=float(input(\"ค่าความสูงของร่างกาย(ม.)คือ \"))\n",
        "bmi= wight/hight**2\n",
        "\n",
        "print(\"\\nค่าดัชนีมวลกาย เท่ากับ\", bmi,\"%\")\n",
        "\n"
      ],
      "metadata": {
        "id": "Srw5b0qhg5gq"
      },
      "execution_count": null,
      "outputs": []
    },
    {
      "cell_type": "markdown",
      "source": [
        "เงื่อนไขของ bmi\n",
        "ถ้า bmi น้อยกว่า 18.5 แปลผล คือ ต่ำกว่าเกณฑ์ แนะนำ คือ\n",
        "ถ้า bmi เท่ากับ(อยู่ระหว่าง)18.2-22.9 แปลผล คือ สมส่วน หรือ ตามเกณฑ์ แนะนำ คือ\n",
        "ถ้า bmi มากกว่า 22.9 แปลผล คือ เกินเกณฑ์ แนะนำคือ"
      ],
      "metadata": {
        "id": "JZwawynhiFdC"
      }
    }
  ]
}